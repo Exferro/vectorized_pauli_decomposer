{
 "cells": [
  {
   "cell_type": "code",
   "execution_count": 1,
   "id": "b7eddfae-520a-4e65-a9f2-2135e1e2969c",
   "metadata": {},
   "outputs": [],
   "source": [
    "%load_ext autoreload\n",
    "%autoreload 2"
   ]
  },
  {
   "cell_type": "code",
   "execution_count": 2,
   "id": "f36983d7-6add-456b-b90e-435a3930960b",
   "metadata": {},
   "outputs": [],
   "source": [
    "import numpy as np\n",
    "\n",
    "import time\n",
    "\n",
    "from matplotlib import pyplot as plt\n",
    "%matplotlib widget"
   ]
  },
  {
   "cell_type": "code",
   "execution_count": 3,
   "id": "d53dd06b-6db1-4b5f-877d-a5a973532092",
   "metadata": {},
   "outputs": [],
   "source": [
    "from vectorized_pauli_decomposer.core.pauli_matrices import PAULI_I, PAULI_X, PAULI_Y, PAULI_Z, CORE_PAULI_STACK\n",
    "from vectorized_pauli_decomposer.core.conversions import pauli_idx2pauli_list, pauli_list2pauli_idx\n",
    "from vectorized_pauli_decomposer.core.batched import batched_kron, batched_rolling_kron\n",
    "\n",
    "from vectorized_pauli_decomposer.decomposers import slow_dense_decompose, fast_dense_decompose"
   ]
  },
  {
   "cell_type": "code",
   "execution_count": 4,
   "id": "5a7f4707-bda4-4ae7-b597-6e0948b8d014",
   "metadata": {},
   "outputs": [],
   "source": [
    "from vectorized_pauli_decomposer.custom_popcount.numpy_popcount import numpy_int64popcount, numpy_int64popcount_"
   ]
  },
  {
   "cell_type": "code",
   "execution_count": 5,
   "id": "112af16d-303f-489a-a538-e214c532029c",
   "metadata": {},
   "outputs": [],
   "source": [
    "a = np.random.randint(20000, size=(10000, 10000))"
   ]
  },
  {
   "cell_type": "code",
   "execution_count": 6,
   "id": "8a49036e-67b2-4e14-808c-f25147e9afca",
   "metadata": {},
   "outputs": [
    {
     "data": {
      "text/plain": [
       "array([[ 9,  6,  6, ...,  7,  7,  8],\n",
       "       [ 8,  8,  5, ...,  9,  6,  5],\n",
       "       [ 7,  5,  6, ...,  6,  8,  9],\n",
       "       ...,\n",
       "       [ 5,  6, 10, ...,  6,  8,  7],\n",
       "       [10,  8,  6, ...,  9,  9,  8],\n",
       "       [ 9,  8,  8, ...,  2,  6,  6]])"
      ]
     },
     "execution_count": 6,
     "metadata": {},
     "output_type": "execute_result"
    }
   ],
   "source": [
    "numpy_int64popcount(a)"
   ]
  },
  {
   "cell_type": "code",
   "execution_count": 8,
   "id": "0c62b451-8117-4a41-85e6-7a23ebb5d4ea",
   "metadata": {},
   "outputs": [
    {
     "name": "stdout",
     "output_type": "stream",
     "text": [
      "48.1 ms ± 1.84 ms per loop (mean ± std. dev. of 7 runs, 10 loops each)\n"
     ]
    }
   ],
   "source": [
    "%timeit numpy_int64popcount_(a)"
   ]
  },
  {
   "cell_type": "markdown",
   "id": "7114e7de-c51a-41c2-8208-462a7b694d38",
   "metadata": {},
   "source": [
    "## Initial simple functions to plot the base Pauli stack subjected to rolling cron"
   ]
  },
  {
   "cell_type": "code",
   "execution_count": 5,
   "id": "afdff827-a645-4fab-87c8-b9d27d8eb1be",
   "metadata": {},
   "outputs": [
    {
     "data": {
      "text/plain": [
       "(-0.0, 1.0)"
      ]
     },
     "execution_count": 5,
     "metadata": {},
     "output_type": "execute_result"
    },
    {
     "data": {
      "application/vnd.jupyter.widget-view+json": {
       "model_id": "a277bf3b32af40279a258c5a5be69899",
       "version_major": 2,
       "version_minor": 0
      },
      "image/png": "[encoded data removed]",
      "text/html": [
       "\n",
       "            <div style=\"display: inline-block;\">\n",
       "                <div class=\"jupyter-widgets widget-label\" style=\"text-align: center;\">\n",
       "                    Figure\n",
       "                </div>\n",
       "                <img src='data:image/png;base64,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' width=640.0/>\n",
       "            </div>\n",
       "        "
      ],
      "text/plain": [
       "Canvas(toolbar=Toolbar(toolitems=[('Home', 'Reset original view', 'home', 'home'), ('Back', 'Back to previous …"
      ]
     },
     "metadata": {},
     "output_type": "display_data"
    }
   ],
   "source": [
    "def rolling_kron(stack):\n",
    "    assert len(stack.shape) == 3\n",
    "    stack_height = stack.shape[0]\n",
    "    result = stack[0]\n",
    "    for layer_idx in range(1, stack_height):\n",
    "        result = np.kron(stack[layer_idx], result)\n",
    "\n",
    "    return result\n",
    "\n",
    "def plot_complex(x):\n",
    "    assert len(x.shape) == 2\n",
    "    fig, axes = plt.subplots(1, 2)\n",
    "    axes[0].imshow(x.real / np.abs(x).max(), cmap='Greys', vmin=-1, vmax=1)\n",
    "    axes[1].imshow(x.imag / np.abs(x).max(), cmap='Greys', vmin=-1, vmax=1)\n",
    "\n",
    "    return x.real.max(), x.imag.max()\n",
    "\n",
    "def plot_batched_complex(x):\n",
    "    assert len(x.shape) == 3\n",
    "    \n",
    "    fig, axes = plt.subplots(x.shape[0], 2)\n",
    "    for batch_idx in range(x.shape[0]):\n",
    "        axes[batch_idx, 0].imshow(x[batch_idx].real / np.abs(x[batch_idx]).max(), cmap='Greys', vmin=-1, vmax=1)\n",
    "        axes[batch_idx, 1].imshow(x[batch_idx].imag / np.abs(x[batch_idx]).max(), cmap='Greys', vmin=-1, vmax=1)\n",
    "\n",
    "\n",
    "    return None\n",
    "\n",
    "plot_complex(rolling_kron(CORE_PAULI_STACK))"
   ]
  },
  {
   "cell_type": "markdown",
   "id": "45505839-646e-4979-babe-d7d75dfb7eb3",
   "metadata": {},
   "source": [
    "# Actual decomposition functions"
   ]
  },
  {
   "cell_type": "code",
   "execution_count": 6,
   "id": "f4385a32-0a5d-453e-8edd-dc64be1c1202",
   "metadata": {},
   "outputs": [],
   "source": [
    "def pauli_decompose(target: np.ndarray = None,\n",
    "                    pauli_indices: np.ndarray = None,\n",
    "                    qubit_num: int = None,\n",
    "                    method: str = 'fast'):\n",
    "    assert target is not None\n",
    "    assert pauli_indices is not None\n",
    "    assert qubit_num is not None\n",
    "    assert method in ('dense', 'sparse', 'fast')\n",
    "\n",
    "    if method == 'dense':\n",
    "        return dense_pauli_decompose(target=target,\n",
    "                                     pauli_indices=pauli_indices,\n",
    "                                     qubit_num=qubit_num)\n",
    "        \n",
    "    elif method == 'sparse':\n",
    "        raise NotImplementedError\n",
    "        \n",
    "    elif method == 'fast':\n",
    "        fast_pauli_decompose(target=target,\n",
    "                             pauli_indices=pauli_indices,\n",
    "                             qubit_num=qubit_num)\n",
    "    else:\n",
    "        raise ValueError(f'Wrong method: {method}')"
   ]
  },
  {
   "cell_type": "markdown",
   "id": "148098ef-5524-49df-9b9f-b06396facd94",
   "metadata": {},
   "source": [
    "# Applying the functions"
   ]
  },
  {
   "cell_type": "code",
   "execution_count": 7,
   "id": "28f466f6-6fc5-4928-8908-cb11be57037c",
   "metadata": {},
   "outputs": [],
   "source": [
    "qubit_num = 9\n",
    "pauli_indices = np.arange(2**(2 * qubit_num))\n",
    "pauli_lists = pauli_idx2pauli_list(pauli_indices, qubit_num=qubit_num)\n",
    "#pauli_stacks = BASE_PAULI_STACK[pauli_lists]\n",
    "#pauli_matrices = batched_rolling_kron(pauli_stacks)"
   ]
  },
  {
   "cell_type": "code",
   "execution_count": 8,
   "id": "0426f828-864b-425d-a5d8-778802140e0c",
   "metadata": {},
   "outputs": [
    {
     "ename": "NameError",
     "evalue": "name 'target' is not defined",
     "output_type": "error",
     "traceback": [
      "\u001b[0;31m---------------------------------------------------------------------------\u001b[0m",
      "\u001b[0;31mNameError\u001b[0m                                 Traceback (most recent call last)",
      "Cell \u001b[0;32mIn[8], line 2\u001b[0m\n\u001b[1;32m      1\u001b[0m \u001b[38;5;66;03m#target = np.random.normal(size=(2**qubit_num, 2**qubit_num)) + 1j * np.random.normal(size=(2**qubit_num, 2**qubit_num))\u001b[39;00m\n\u001b[0;32m----> 2\u001b[0m coeffs \u001b[38;5;241m=\u001b[39m slow_dense_decompose(target\u001b[38;5;241m=\u001b[39mtarget,\n\u001b[1;32m      3\u001b[0m                                pauli_indices\u001b[38;5;241m=\u001b[39mpauli_indices, \n\u001b[1;32m      4\u001b[0m                                qubit_num\u001b[38;5;241m=\u001b[39mqubit_num)\n",
      "\u001b[0;31mNameError\u001b[0m: name 'target' is not defined"
     ]
    }
   ],
   "source": [
    "#target = np.random.normal(size=(2**qubit_num, 2**qubit_num)) + 1j * np.random.normal(size=(2**qubit_num, 2**qubit_num))\n",
    "coeffs = slow_dense_decompose(target=target,\n",
    "                               pauli_indices=pauli_indices, \n",
    "                               qubit_num=qubit_num)\n",
    "# new_target = np.einsum('b,bij->ij', coeffs, pauli_matrices)\n",
    "# print(np.allclose(new_target, target))"
   ]
  },
  {
   "cell_type": "code",
   "execution_count": 9,
   "id": "552eafd8-114e-4b93-9fb4-8537dd769b54",
   "metadata": {},
   "outputs": [],
   "source": [
    "target = np.random.normal(size=(2**qubit_num, 2**qubit_num)) + 1j * np.random.normal(size=(2**qubit_num, 2**qubit_num))\n",
    "fast_coeffs = fast_dense_decompose(target=target,\n",
    "                                   pauli_indices=pauli_indices, \n",
    "                                    qubit_num=qubit_num)\n",
    "# fast_target = np.einsum('b,bij->ij', fast_coeffs, pauli_matrices)\n",
    "# print(np.allclose(fast_target, target))"
   ]
  },
  {
   "cell_type": "code",
   "execution_count": 9,
   "id": "e7e4e36c-5ba4-4947-9b7d-39034a5fe9a5",
   "metadata": {},
   "outputs": [
    {
     "data": {
      "text/plain": [
       "True"
      ]
     },
     "execution_count": 9,
     "metadata": {},
     "output_type": "execute_result"
    }
   ],
   "source": [
    "np.allclose(coeffs, fast_coeffs)"
   ]
  },
  {
   "cell_type": "code",
   "execution_count": 10,
   "id": "f675172d-cf2f-4438-a76f-bbece39fadb5",
   "metadata": {},
   "outputs": [
    {
     "name": "stdout",
     "output_type": "stream",
     "text": [
      "1.82 s ± 47.3 ms per loop (mean ± std. dev. of 7 runs, 1 loop each)\n"
     ]
    }
   ],
   "source": [
    "%timeit slow_dense_decompose(target=target,\\\n",
    "                               pauli_indices=pauli_indices, \\\n",
    "                               qubit_num=qubit_num)"
   ]
  },
  {
   "cell_type": "code",
   "execution_count": 24,
   "id": "7339ae47-1042-4eb0-8bd2-349b9cfd8919",
   "metadata": {},
   "outputs": [
    {
     "name": "stdout",
     "output_type": "stream",
     "text": [
      "1.72 s ± 14.5 ms per loop (mean ± std. dev. of 7 runs, 1 loop each)\n"
     ]
    }
   ],
   "source": [
    "%timeit fast_dense_decompose(target=target,\\\n",
    "                               pauli_indices=pauli_indices, \\\n",
    "                               qubit_num=qubit_num)"
   ]
  },
  {
   "cell_type": "code",
   "execution_count": 25,
   "id": "0583b108-9e2d-463a-a342-68fb28bc2f86",
   "metadata": {},
   "outputs": [
    {
     "name": "stdout",
     "output_type": "stream",
     "text": [
      "3.35 s ± 390 ms per loop (mean ± std. dev. of 7 runs, 1 loop each)\n"
     ]
    }
   ],
   "source": [
    "%timeit fast_dense_decompose(target=target,\\\n",
    "                               pauli_indices=pauli_indices, \\\n",
    "                               qubit_num=qubit_num)"
   ]
  },
  {
   "cell_type": "code",
   "execution_count": 13,
   "id": "c540f0e2-55a5-4f05-9e43-58c49417b4e6",
   "metadata": {},
   "outputs": [
    {
     "name": "stdout",
     "output_type": "stream",
     "text": [
      "2.58 s ± 27.1 ms per loop (mean ± std. dev. of 7 runs, 1 loop each)\n"
     ]
    }
   ],
   "source": [
    "%timeit fast_dense_decompose(target=target,\\\n",
    "                               pauli_indices=pauli_indices, \\\n",
    "                               qubit_num=qubit_num)"
   ]
  },
  {
   "cell_type": "code",
   "execution_count": 10,
   "id": "687aada7-da6d-47b1-8e1f-9894dcfc589b",
   "metadata": {},
   "outputs": [
    {
     "name": "stdout",
     "output_type": "stream",
     "text": [
      "2.3 s ± 23.1 ms per loop (mean ± std. dev. of 7 runs, 1 loop each)\n"
     ]
    }
   ],
   "source": [
    "%timeit fast_dense_decompose(target=target,\\\n",
    "                               pauli_indices=pauli_indices, \\\n",
    "                               qubit_num=qubit_num)"
   ]
  }
 ],
 "metadata": {
  "kernelspec": {
   "display_name": "nmr env kernel",
   "language": "python",
   "name": "nmr"
  },
  "language_info": {
   "codemirror_mode": {
    "name": "ipython",
    "version": 3
   },
   "file_extension": ".py",
   "mimetype": "text/x-python",
   "name": "python",
   "nbconvert_exporter": "python",
   "pygments_lexer": "ipython3",
   "version": "3.12.2"
  }
 },
 "nbformat": 4,
 "nbformat_minor": 5
}
